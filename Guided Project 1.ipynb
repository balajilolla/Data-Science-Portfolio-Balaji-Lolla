{
 "cells": [
  {
   "cell_type": "markdown",
   "metadata": {
    "collapsed": true
   },
   "source": [
    "## Analyze Hacker Rank Website \"Ask HN\" and \"Show HN\" posts"
   ]
  },
  {
   "cell_type": "markdown",
   "metadata": {},
   "source": [
    "### Introduction\n",
    "\n",
    "1. The purpose of this project is to analyze the posts from [Hacker News](https://news.ycombinator.com/) maintained by y combinator\n",
    "2. Utilizing a filtered down readily available dataset, analyze posts that have `Ask HN` or `Show HN` in them. Data source is [Kaggle.com](https://www.kaggle.com/hacker-news/hacker-news-posts)\n",
    "3. Analyze this dataset to see if Ask or Show HN posts receive more comments on average\n",
    "4. Also, peform analysis on the dataset to see if posts created at certail times receive more comments on average"
   ]
  },
  {
   "cell_type": "code",
   "execution_count": 1,
   "metadata": {
    "collapsed": false
   },
   "outputs": [
    {
     "data": {
      "text/plain": [
       "[['id', 'title', 'url', 'num_points', 'num_comments', 'author', 'created_at'],\n",
       " ['12224879',\n",
       "  'Interactive Dynamic Video',\n",
       "  'http://www.interactivedynamicvideo.com/',\n",
       "  '386',\n",
       "  '52',\n",
       "  'ne0phyte',\n",
       "  '8/4/2016 11:52'],\n",
       " ['10975351',\n",
       "  'How to Use Open Source and Shut the Fuck Up at the Same Time',\n",
       "  'http://hueniverse.com/2016/01/26/how-to-use-open-source-and-shut-the-fuck-up-at-the-same-time/',\n",
       "  '39',\n",
       "  '10',\n",
       "  'josep2',\n",
       "  '1/26/2016 19:30'],\n",
       " ['11964716',\n",
       "  \"Florida DJs May Face Felony for April Fools' Water Joke\",\n",
       "  'http://www.thewire.com/entertainment/2013/04/florida-djs-april-fools-water-joke/63798/',\n",
       "  '2',\n",
       "  '1',\n",
       "  'vezycash',\n",
       "  '6/23/2016 22:20'],\n",
       " ['11919867',\n",
       "  'Technology ventures: From Idea to Enterprise',\n",
       "  'https://www.amazon.com/Technology-Ventures-Enterprise-Thomas-Byers/dp/0073523429',\n",
       "  '3',\n",
       "  '1',\n",
       "  'hswarna',\n",
       "  '6/17/2016 0:01']]"
      ]
     },
     "execution_count": 1,
     "metadata": {},
     "output_type": "execute_result"
    }
   ],
   "source": [
    "#1. Import hacker_news.csv dataset\n",
    "from csv import reader\n",
    "opened_file = open('hacker_news.csv')\n",
    "read_file = reader(opened_file)\n",
    "hn = list(read_file)\n",
    "hn[:5]"
   ]
  },
  {
   "cell_type": "code",
   "execution_count": 2,
   "metadata": {
    "collapsed": false
   },
   "outputs": [
    {
     "name": "stdout",
     "output_type": "stream",
     "text": [
      "['id', 'title', 'url', 'num_points', 'num_comments', 'author', 'created_at']\n",
      "[['12224879', 'Interactive Dynamic Video', 'http://www.interactivedynamicvideo.com/', '386', '52', 'ne0phyte', '8/4/2016 11:52'], ['10975351', 'How to Use Open Source and Shut the Fuck Up at the Same Time', 'http://hueniverse.com/2016/01/26/how-to-use-open-source-and-shut-the-fuck-up-at-the-same-time/', '39', '10', 'josep2', '1/26/2016 19:30'], ['11964716', \"Florida DJs May Face Felony for April Fools' Water Joke\", 'http://www.thewire.com/entertainment/2013/04/florida-djs-april-fools-water-joke/63798/', '2', '1', 'vezycash', '6/23/2016 22:20'], ['11919867', 'Technology ventures: From Idea to Enterprise', 'https://www.amazon.com/Technology-Ventures-Enterprise-Thomas-Byers/dp/0073523429', '3', '1', 'hswarna', '6/17/2016 0:01'], ['10301696', 'Note by Note: The Making of Steinway L1037 (2007)', 'http://www.nytimes.com/2007/11/07/movies/07stein.html?_r=0', '8', '2', 'walterbell', '9/30/2015 4:12']]\n"
     ]
    }
   ],
   "source": [
    "#2. Remove headers from the hn list of lists\n",
    "headers = hn[0]\n",
    "hn = hn[1:]\n",
    "print(headers)\n",
    "print(hn[:5])"
   ]
  },
  {
   "cell_type": "markdown",
   "metadata": {
    "collapsed": true
   },
   "source": [
    "### Identify posts that begin with Ask HN or Show HN and put it into a seperate list\n",
    "1. Create 3 seperate lists for ask hn, show hn and other post comments\n",
    "2. Loop through the hn dataset to check if the title begins with ask hn or show hn and assign to the respective lists\n",
    "3. Display total number of posts in each list"
   ]
  },
  {
   "cell_type": "code",
   "execution_count": 7,
   "metadata": {
    "collapsed": false
   },
   "outputs": [
    {
     "name": "stdout",
     "output_type": "stream",
     "text": [
      "Number of posts in ask posts: 1744\n",
      "Number of posts in ask posts: 1162\n",
      "Number of posts in ask posts: 17194\n"
     ]
    }
   ],
   "source": [
    "# Create 3 lists called ask_posts, show_posts and other_posts\n",
    "ask_posts=[]\n",
    "show_posts=[]\n",
    "other_posts=[]\n",
    "\n",
    "# Loop through each row in hn\n",
    "for eachrow in hn:\n",
    "    title = eachrow[1]\n",
    "    if title.lower().startswith('ask hn'):\n",
    "        ask_posts.append(eachrow)\n",
    "    elif title.lower().startswith('show hn'):\n",
    "        show_posts.append(eachrow)\n",
    "    else:\n",
    "        other_posts.append(eachrow)\n",
    "\n",
    "# Check number of posts in ask_hn, show_hn and other_posts       \n",
    "print('Number of posts in ask posts: ' + str(len(ask_posts)))\n",
    "print('Number of posts in ask posts: ' + str(len(show_posts)))\n",
    "print('Number of posts in ask posts: ' + str(len(other_posts)))"
   ]
  },
  {
   "cell_type": "markdown",
   "metadata": {},
   "source": [
    "### Analysis of `Ask HN` and `Show HN` posts\n",
    "Performing analysis on `Ask HN` or `Show HN` to see if they received more comments on average than other types of posts"
   ]
  },
  {
   "cell_type": "code",
   "execution_count": 9,
   "metadata": {
    "collapsed": false
   },
   "outputs": [
    {
     "name": "stdout",
     "output_type": "stream",
     "text": [
      "14.038417431192661\n",
      "10.31669535283993\n"
     ]
    }
   ],
   "source": [
    "# Declare variable total_ask_comments and set to 0\n",
    "# Get total number of comments in ask_posts dataset and calculate average\n",
    "total_ask_comments = 0\n",
    "for eachrow in ask_posts:\n",
    "    number_of_comments_ask=int(eachrow[4])\n",
    "    total_ask_comments += number_of_comments_ask\n",
    "avg_ask_comments = total_ask_comments/len(ask_posts)\n",
    "print(avg_ask_comments)\n",
    "\n",
    "# Declare variable total_show_comments and set to 0\n",
    "# Get total number of comments in show_posts dataset and calculate average\n",
    "total_show_comments = 0\n",
    "for eachrow in show_posts:\n",
    "    number_of_comments_show = int(eachrow[4])\n",
    "    total_show_comments += int(number_of_comments_show)\n",
    "avg_show_comments = total_show_comments/len(show_posts)\n",
    "print(avg_show_comments)"
   ]
  },
  {
   "cell_type": "markdown",
   "metadata": {},
   "source": [
    "### Findings\n",
    "1. On average `Ask HN` posts received 14 comments per post and `Show HN` posts received 10 comments per post\n",
    "2. It can be seen that on an average `Ask HN` posts receive 4 more comments that the `Show HN` posts\n",
    "3. As ask posts receive more comments, focussing the rest of this analysis on these posts"
   ]
  },
  {
   "cell_type": "markdown",
   "metadata": {},
   "source": [
    "#### Analysis of ask posts\n",
    "1. This analysis is broken dow into 2 phases\n",
    "2. In the first phase we are going to find the number of ask posts created in each hour of the day and the comments received"
   ]
  },
  {
   "cell_type": "code",
   "execution_count": null,
   "metadata": {
    "collapsed": true
   },
   "outputs": [],
   "source": [
    "# Import datetime module as dt\n",
    "import datetime as dt\n",
    "\n",
    "# Declare 2 lists. The first one result_list is to store the created date and comments for all posts as list of list\n",
    "# The second list each_row_list is to store the elements created date and number of comments for each post\n",
    "result_list=[]\n",
    "each_row_list=[]\n",
    "for eachrow in ask_posts:\n",
    "    each_row_list=[]\n",
    "    each_row_list.append(eachrow[6])\n",
    "    each_row_list.append(int(eachrow[4]))\n",
    "    result_list.append(each_row_list)\n",
    "\n",
    "# Creating 2 empty dictionaries called counts_by_hour and comments_by_hour\n",
    "counts_by_hour={}\n",
    "comments_by_hour={}\n"
   ]
  }
 ],
 "metadata": {
  "kernelspec": {
   "display_name": "Python 3",
   "language": "python",
   "name": "python3"
  },
  "language_info": {
   "codemirror_mode": {
    "name": "ipython",
    "version": 3
   },
   "file_extension": ".py",
   "mimetype": "text/x-python",
   "name": "python",
   "nbconvert_exporter": "python",
   "pygments_lexer": "ipython3",
   "version": "3.4.3"
  }
 },
 "nbformat": 4,
 "nbformat_minor": 2
}
